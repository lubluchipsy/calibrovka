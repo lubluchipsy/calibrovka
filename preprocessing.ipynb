{
 "cells": [
  {
   "cell_type": "code",
   "execution_count": 2,
   "id": "f5458d86",
   "metadata": {},
   "outputs": [],
   "source": [
    "import numpy as np\n",
    "import pandas as pd\n",
    "import matplotlib.pyplot as plt"
   ]
  },
  {
   "cell_type": "code",
   "execution_count": 1,
   "id": "74cffcca",
   "metadata": {},
   "outputs": [],
   "source": [
    "def get_rotations_csv(file_path, result_path, number):\n",
    "\"\"\"\n",
    "Функция для обработки данных с поворотных осей. Сохраняет данные в массив .npy\n",
    "\"\"\"\n",
    "    df =  pd.read_csv(file_path, sep=';', header=0, decimal=',') \n",
    "    data = df.to_numpy()\n",
    "    angle = data[:,1]\n",
    "    for i in range(0, len(angle)-1):\n",
    "        if abs(angle[i] - angle[i+1])>1000:\n",
    "            if (angle[i+1] - angle[i])>0:\n",
    "                angle[i+1:] -= 11520\n",
    "            else:\n",
    "                angle[i+1:] += 11520\n",
    "    if data.shape[1] == 4:\n",
    "        data = np.delete(data, 3, axis=1)\n",
    "    np.save(f\"{result_path}/data{number}.npy\", data)"
   ]
  },
  {
   "cell_type": "code",
   "execution_count": 3,
   "id": "07a952e0",
   "metadata": {},
   "outputs": [],
   "source": [
    "def get_rotations_txt(file_path, result_path, number):\n",
    "\"\"\"\n",
    "Функция для обработки  с поворотных осей. Сохраняет данные в массив .npy\n",
    "\"\"\"\n",
    "    data = np.genfromtxt(file_path)\n",
    "    np.save(f\"{result_path}/data{number}.npy\", data)"
   ]
  },
  {
   "cell_type": "code",
   "execution_count": 4,
   "id": "c583627d",
   "metadata": {},
   "outputs": [],
   "source": [
    "def filter(data): # фильтрация выбросов \n",
    "\"\"\"\n",
    "Функция для удаления строк из данных блока, где происходит явный скачок производной по угловой скорости \n",
    "(разница углов более 5000 град/ч)\n",
    "\"\"\"\n",
    "    outliers = []\n",
    "    for col in [1,2,3]:\n",
    "        omega = data[:, col] * 3600 * 180 * 200 / np.pi\n",
    "        for i in range(1, omega.size-1):\n",
    "            if (abs(omega[i]-omega[i-1])>5000 and abs(omega[i]-omega[i+1])) > 5000:\n",
    "                outliers.append(i)\n",
    "    filtered_data = np.delete(data, outliers, axis=0)\n",
    "    \n",
    "    return filtered_data"
   ]
  },
  {
   "cell_type": "code",
   "execution_count": 5,
   "id": "63ac8b33",
   "metadata": {},
   "outputs": [],
   "source": [
    "def get_data_ibl(file_path, result_path):\n",
    "\"\"\"\n",
    "Функция для обработки  данных с блока. Сохраняет данные в массив .npy.\n",
    "Данные с блока должны иметь вид:\n",
    "[time, dfiX, dfiY, dfiZ, wX, wY, wZ, TaX, TaY, TaZ, TlgX, TlgY, TlgZ, Text]\n",
    "или\n",
    "[time, dfiX, dfiY, dfiZ, wX, wY, wZ, TlgY, TlgZ, Text]\n",
    "если вместо термодатчиков акселерометров используются гироскопные.\n",
    "\"\"\"\n",
    "    data = np.loadtxt(file_path, skiprows=1)\n",
    "    filtered_data = filter(data)\n",
    "    np.save(f\"{result_path}/data_ibl.npy\", filtered_data)"
   ]
  },
  {
   "cell_type": "code",
   "execution_count": 7,
   "id": "d44f55fb",
   "metadata": {},
   "outputs": [],
   "source": [
    "\"\"\"\n",
    "ВХОДНЫЕ ДАННЫЕ\n",
    "\"\"\"\n",
    "path = \"20250502\"\n",
    "rot = \"csv\" # \"txt\"\n",
    "path_1 = f\"{path}/{path}_1.csv\"\n",
    "path_2 = f\"{path}/{path}_2.csv\"\n",
    "path_ibl = f\"{path}/short.txt\""
   ]
  },
  {
   "cell_type": "code",
   "execution_count": 8,
   "id": "c3e1167b",
   "metadata": {},
   "outputs": [],
   "source": [
    "if rot == \"csv\":\n",
    "    get_rotations_csv(path_1, path, 1)\n",
    "    get_rotations_csv(path_2, path, 2)\n",
    "if rot == \"txt\":\n",
    "    get_rotations_txt(path_1, path, 1)\n",
    "    get_rotations_txt(path_2, path, 2)"
   ]
  },
  {
   "cell_type": "code",
   "execution_count": 15,
   "id": "0aad0bb4",
   "metadata": {},
   "outputs": [],
   "source": [
    "get_data_ibl(path_ibl, path)"
   ]
  }
 ],
 "metadata": {
  "kernelspec": {
   "display_name": "Python 3 (ipykernel)",
   "language": "python",
   "name": "python3"
  },
  "language_info": {
   "codemirror_mode": {
    "name": "ipython",
    "version": 3
   },
   "file_extension": ".py",
   "mimetype": "text/x-python",
   "name": "python",
   "nbconvert_exporter": "python",
   "pygments_lexer": "ipython3",
   "version": "3.9.12"
  }
 },
 "nbformat": 4,
 "nbformat_minor": 5
}
