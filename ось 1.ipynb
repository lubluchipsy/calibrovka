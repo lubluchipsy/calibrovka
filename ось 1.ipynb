{
 "cells": [
  {
   "cell_type": "code",
   "execution_count": 2,
   "id": "900ef5de",
   "metadata": {},
   "outputs": [],
   "source": [
    "import numpy as np"
   ]
  },
  {
   "cell_type": "code",
   "execution_count": 3,
   "id": "4ae11fd5",
   "metadata": {},
   "outputs": [],
   "source": [
    "data_ibl = np.genfromtxt('20240204_1426.txt', skip_header=0, usecols=(1,3,4,5))\n",
    "time_ibl = data_ibl[:, 0]\n",
    "omegaX_ibl = data_ibl[:, 1]\n",
    "omegaY_ibl = data_ibl[:, 2]\n",
    "omegaZ_ibl = data_ibl[:, 3]"
   ]
  },
  {
   "cell_type": "code",
   "execution_count": 11,
   "id": "bae02c9c",
   "metadata": {},
   "outputs": [],
   "source": [
    "data_1 = np.genfromtxt('05022024_1.txt', skip_header=0, max_rows=None)\n",
    "time_1 = data_1[:, 0]\n",
    "fi_1 = data_1[:, 1]\n",
    "theta_1 = data_1[:, 2]\n",
    "omega_1 = theta_1*3600"
   ]
  },
  {
   "cell_type": "code",
   "execution_count": 12,
   "id": "f54db241",
   "metadata": {},
   "outputs": [],
   "source": [
    "import matplotlib.pyplot as plt"
   ]
  },
  {
   "cell_type": "code",
   "execution_count": 13,
   "id": "b2c11e3e",
   "metadata": {},
   "outputs": [
    {
     "data": {
      "text/plain": [
       "[<matplotlib.lines.Line2D at 0x270461fb970>]"
      ]
     },
     "execution_count": 13,
     "metadata": {},
     "output_type": "execute_result"
    },
    {
     "data": {
      "image/png": "[encoded data removed]",
      "text/plain": [
       "<Figure size 432x288 with 1 Axes>"
      ]
     },
     "metadata": {
      "needs_background": "light"
     },
     "output_type": "display_data"
    }
   ],
   "source": [
    "plt.plot(time_ibl, omegaY_ibl)"
   ]
  },
  {
   "cell_type": "code",
   "execution_count": 14,
   "id": "353fb4ae",
   "metadata": {},
   "outputs": [
    {
     "name": "stdout",
     "output_type": "stream",
     "text": [
      "(442507, 4) (810453, 3) 89188.32067\n"
     ]
    }
   ],
   "source": [
    "print(data_ibl.shape, data_1.shape, time_1[-1])"
   ]
  },
  {
   "cell_type": "code",
   "execution_count": null,
   "id": "ab9b3a79",
   "metadata": {},
   "outputs": [],
   "source": []
  },
  {
   "cell_type": "code",
   "execution_count": 334,
   "id": "d9fc8598",
   "metadata": {},
   "outputs": [
    {
     "data": {
      "text/plain": [
       "[<matplotlib.lines.Line2D at 0x243a5e16c40>]"
      ]
     },
     "execution_count": 334,
     "metadata": {},
     "output_type": "execute_result"
    },
    {
     "data": {
      "image/png": "[encoded data removed]",
      "text/plain": [
       "<Figure size 432x288 with 1 Axes>"
      ]
     },
     "metadata": {
      "needs_background": "light"
     },
     "output_type": "display_data"
    }
   ],
   "source": [
    "plt.plot(time_1[:int(round(time_ibl.size*0.05))], omega_1[:int(round(time_ibl.size*0.05))])"
   ]
  },
  {
   "cell_type": "code",
   "execution_count": 357,
   "id": "0f4154b2",
   "metadata": {},
   "outputs": [
    {
     "name": "stdout",
     "output_type": "stream",
     "text": [
      "(810453, 2) (209156, 2)\n"
     ]
    }
   ],
   "source": [
    "data1 = np.stack((time_1, omega_1), axis=1)\n",
    "dataibl = np.stack((time_ibl, omegaY_ibl), axis=1)\n",
    "dataibl[:,1] *= (-1)\n",
    "print(data1.shape, dataibl.shape)"
   ]
  },
  {
   "cell_type": "code",
   "execution_count": 336,
   "id": "12e688ac",
   "metadata": {},
   "outputs": [
    {
     "data": {
      "text/plain": [
       "209156"
      ]
     },
     "execution_count": 336,
     "metadata": {},
     "output_type": "execute_result"
    }
   ],
   "source": [
    "data_ibl.shape[0]"
   ]
  },
  {
   "cell_type": "code",
   "execution_count": 337,
   "id": "0b798a30",
   "metadata": {},
   "outputs": [],
   "source": [
    "same_time = []"
   ]
  },
  {
   "cell_type": "code",
   "execution_count": 338,
   "id": "bb3b6560",
   "metadata": {},
   "outputs": [],
   "source": [
    "for i in range(data1.shape[0]):\n",
    "    if ((data1[i][1] > 30000) and (data1[i][1] < 35000)):\n",
    "        for j in range(dataibl.shape[0]):\n",
    "            if abs(data1[i][1] + dataibl[j][1])<50:\n",
    "                same_time.append((i,j))\n",
    "                print(i, j)\n",
    "                print(data1[i][1], dataibl[j][1])\n",
    "same_time = np.array(same_time)"
   ]
  },
  {
   "cell_type": "code",
   "execution_count": 339,
   "id": "a6d1ee2d",
   "metadata": {},
   "outputs": [
    {
     "data": {
      "text/plain": [
       "array([], dtype=float64)"
      ]
     },
     "execution_count": 339,
     "metadata": {},
     "output_type": "execute_result"
    }
   ],
   "source": [
    "same_time"
   ]
  },
  {
   "cell_type": "code",
   "execution_count": 340,
   "id": "571498fe",
   "metadata": {},
   "outputs": [],
   "source": [
    "def count_until_threshold(arr, start_index, threshold):\n",
    "    count = 0\n",
    "    for value in arr[start_index:]:\n",
    "        if value >= threshold:\n",
    "            count += 1\n",
    "        else:\n",
    "            break\n",
    "    return count"
   ]
  },
  {
   "cell_type": "code",
   "execution_count": 341,
   "id": "f8d9ce3b",
   "metadata": {},
   "outputs": [
    {
     "ename": "IndexError",
     "evalue": "index 0 is out of bounds for axis 0 with size 0",
     "output_type": "error",
     "traceback": [
      "\u001b[1;31m---------------------------------------------------------------------------\u001b[0m",
      "\u001b[1;31mIndexError\u001b[0m                                Traceback (most recent call last)",
      "Input \u001b[1;32mIn [341]\u001b[0m, in \u001b[0;36m<cell line: 1>\u001b[1;34m()\u001b[0m\n\u001b[1;32m----> 1\u001b[0m beg1 \u001b[38;5;241m=\u001b[39m \u001b[43msame_time\u001b[49m\u001b[43m[\u001b[49m\u001b[38;5;241;43m0\u001b[39;49m\u001b[43m]\u001b[49m[\u001b[38;5;241m0\u001b[39m]\n\u001b[0;32m      2\u001b[0m begi \u001b[38;5;241m=\u001b[39m same_time[\u001b[38;5;241m0\u001b[39m][\u001b[38;5;241m1\u001b[39m]\n\u001b[0;32m      3\u001b[0m begi\n",
      "\u001b[1;31mIndexError\u001b[0m: index 0 is out of bounds for axis 0 with size 0"
     ]
    }
   ],
   "source": [
    "beg1 = same_time[0][0]\n",
    "begi = same_time[0][1]\n",
    "begi"
   ]
  },
  {
   "cell_type": "code",
   "execution_count": 342,
   "id": "c6224801",
   "metadata": {},
   "outputs": [
    {
     "data": {
      "text/plain": [
       "[<matplotlib.lines.Line2D at 0x243aaf408e0>]"
      ]
     },
     "execution_count": 342,
     "metadata": {},
     "output_type": "execute_result"
    },
    {
     "data": {
      "image/png": "[encoded data removed]",
      "text/plain": [
       "<Figure size 432x288 with 1 Axes>"
      ]
     },
     "metadata": {
      "needs_background": "light"
     },
     "output_type": "display_data"
    }
   ],
   "source": [
    "size1 = count_until_threshold(data1[:,1], beg1, 200)\n",
    "data1_plot = data1[beg1:(beg1+size), :]\n",
    "plt.plot(data1_plot[:,0], data1_plot[:,1])\n",
    "sizei = count_until_threshold(dataibl[:,1], begi, 200)\n",
    "datai_plot = dataibl[begi:(begi+sizei), :]\n",
    "datai_plot[:, 0] -= (dataibl[:,0][begi] - data1[:,0][beg1])\n",
    "plt.plot(datai_plot[:,0], datai_plot[:,1])\n",
    "#plt.plot([79.8255864, 79.8255864], [0,36100])"
   ]
  },
  {
   "cell_type": "code",
   "execution_count": 76,
   "id": "f8256540",
   "metadata": {},
   "outputs": [
    {
     "name": "stdout",
     "output_type": "stream",
     "text": [
      "[[   61.8797298 32179.248    ]\n",
      " [   61.981458  35762.4      ]\n",
      " [   62.0812155 36048.24     ]\n",
      " [   62.1809488 35979.984    ]\n",
      " [   62.2856462 36016.776    ]\n",
      " [   62.3843824 36044.1      ]\n",
      " [   62.584571  36045.576    ]\n",
      " [   62.6859431 35984.412    ]\n",
      " [   62.7876667 35966.484    ]\n",
      " [   62.8879674 36002.772    ]] [[   61.8797298  32181.34205231]\n",
      " [   61.8847298  32392.23780409]\n",
      " [   61.8897298  32579.31875321]\n",
      " [   61.8947298  32788.26785159]\n",
      " [   61.8997298  32950.91610834]\n",
      " [   61.9047298  33097.6751663 ]\n",
      " [   61.9097298  33252.59677945]\n",
      " [   61.9147298  33492.46060973]\n",
      " [   61.9197298  33685.94957411]\n",
      " [   61.9247298  33855.28369319]]\n"
     ]
    }
   ],
   "source": [
    "print(data1_plot[:10, :], datai_plot[:10, :])"
   ]
  },
  {
   "cell_type": "code",
   "execution_count": 343,
   "id": "f71cf053",
   "metadata": {},
   "outputs": [],
   "source": [
    "def max_diff(data1, datai):\n",
    "    max_difference = -np.inf\n",
    "    best_key = None\n",
    "    best_values = (None, None)\n",
    "    best_indices = (None, None)\n",
    "\n",
    "    for i, val1 in enumerate(data1):\n",
    "        key1 = val1[0]\n",
    "\n",
    "        for j, val2 in enumerate(datai):\n",
    "            key2 = val2[0]\n",
    "\n",
    "            if abs(key1 - key2) <= 0.005: \n",
    "                difference = abs(val1[1] - val2[1])\n",
    "                if difference > max_difference:\n",
    "                    max_difference = difference\n",
    "                    best_key = key1 \n",
    "                    best_values = (val1[1], val2[1])  \n",
    "                    best_indices = (i, j)  \n",
    "\n",
    "    print(f\"Максимальная разница: {max_difference}, при времени: {best_key}\")\n",
    "    print(f\"Величины: {best_values[0]} и {best_values[1]} на индексах: {best_indices[0]} и {best_indices[1]}\")\n",
    "\n"
   ]
  },
  {
   "cell_type": "code",
   "execution_count": 344,
   "id": "c8159a53",
   "metadata": {},
   "outputs": [],
   "source": [
    "def average_diff(data1, datai):\n",
    "    total_difference = 0\n",
    "    count = 0\n",
    "    \n",
    "    for i, val1 in enumerate(data1):\n",
    "        key1 = val1[0]\n",
    "\n",
    "        for j, val2 in enumerate(datai):\n",
    "            key2 = val2[0]\n",
    "\n",
    "            if abs(key1 - key2) <= 0.005: \n",
    "                difference = abs(val1[1] - val2[1])\n",
    "                total_difference += difference\n",
    "                count += 1\n",
    "    if count > 0:\n",
    "        average_difference = total_difference / count\n",
    "        print(f\"Средняя разница: {average_difference}\")\n",
    "    else:\n",
    "        print(\"Нет совпадающих пар для вычисления средней разницы.\")"
   ]
  },
  {
   "cell_type": "code",
   "execution_count": 345,
   "id": "3c269a3b",
   "metadata": {},
   "outputs": [
    {
     "name": "stdout",
     "output_type": "stream",
     "text": [
      "Максимальная разница: 473.6534778999994, при времени: 79.8255864\n",
      "Величины: 6009.084 и 5535.4305221 на индексах: 163 и 3590\n",
      "Средняя разница: 41.44130994571438\n"
     ]
    }
   ],
   "source": [
    "max_diff(data1_plot, datai_plot)\n",
    "average_diff(data1_plot, datai_plot)"
   ]
  },
  {
   "cell_type": "code",
   "execution_count": 346,
   "id": "b92f6333",
   "metadata": {},
   "outputs": [
    {
     "data": {
      "text/plain": [
       "[<matplotlib.lines.Line2D at 0x243ab042220>]"
      ]
     },
     "execution_count": 346,
     "metadata": {},
     "output_type": "execute_result"
    },
    {
     "data": {
      "image/png": "[encoded data removed]",
      "text/plain": [
       "<Figure size 432x288 with 1 Axes>"
      ]
     },
     "metadata": {
      "needs_background": "light"
     },
     "output_type": "display_data"
    }
   ],
   "source": [
    "plt.plot(data1_plot[160:,0], data1_plot[160:,1])\n",
    "plt.plot(datai_plot[3500:,0], datai_plot[3500:,1])"
   ]
  },
  {
   "cell_type": "code",
   "execution_count": 347,
   "id": "74f33465",
   "metadata": {},
   "outputs": [
    {
     "name": "stdout",
     "output_type": "stream",
     "text": [
      "556 [14077, 14078, 14079, 14080, 14081, 14082, 17844, 17845, 17846, 17847, 17848]\n"
     ]
    }
   ],
   "source": [
    "time1_ind = None\n",
    "timeibl_ind = []\n",
    "\n",
    "for i, row1 in enumerate(data1):\n",
    "    time1, o1 = row1\n",
    "\n",
    "    if o1 > 2000:\n",
    "        for j, row2 in enumerate(dataibl):\n",
    "            time2, o2 = row2\n",
    "            \n",
    "            if abs(o1 - o2) <= 500:\n",
    "                time1_ind = i  \n",
    "                timeibl_ind.append(j) \n",
    "        break \n",
    "\n",
    "# Вывод результатов\n",
    "print(time1_ind, timeibl_ind)\n"
   ]
  },
  {
   "cell_type": "code",
   "execution_count": 348,
   "id": "a52c84c1",
   "metadata": {},
   "outputs": [
    {
     "name": "stdout",
     "output_type": "stream",
     "text": [
      "238.71\n"
     ]
    }
   ],
   "source": [
    "print(dataibl[14077][0])"
   ]
  },
  {
   "cell_type": "code",
   "execution_count": 358,
   "id": "c3dcc543",
   "metadata": {},
   "outputs": [],
   "source": [
    "def plot(beg1, begi, data_1, data_ibl):\n",
    "    plt.figure()\n",
    "    size1 = count_until_threshold(data_1[:,1], beg1, 2000)\n",
    "    data1_plot = data_1[beg1:(beg1+size1), :]\n",
    "    plt.plot(data1_plot[:,0], data1_plot[:,1])\n",
    "    sizei = count_until_threshold(data_ibl[:,1], begi, 2000)\n",
    "    datai_plot = data_ibl[begi:(begi+sizei), :]\n",
    "    datai_plot[:, 0] -= (data_ibl[:,0][begi] - data_1[:,0][beg1])\n",
    "    plt.plot(datai_plot[:,0], datai_plot[:,1])\n",
    "    plt.show()\n",
    "\n",
    "    average_diff(data1_plot, datai_plot)\n",
    "    max_diff(data1_plot, datai_plot)"
   ]
  },
  {
   "cell_type": "code",
   "execution_count": 359,
   "id": "95f1abd3",
   "metadata": {},
   "outputs": [
    {
     "data": {
      "image/png": "[encoded data removed]",
      "text/plain": [
       "<Figure size 432x288 with 1 Axes>"
      ]
     },
     "metadata": {
      "needs_background": "light"
     },
     "output_type": "display_data"
    },
    {
     "name": "stdout",
     "output_type": "stream",
     "text": [
      "Средняя разница: 82.00385650889221\n",
      "Максимальная разница: 701.5617065999977, при времени: 61.981458\n",
      "Величины: 35762.399999999994 и 35060.8382934 на индексах: 8 и 181\n"
     ]
    }
   ],
   "source": [
    "plot(time1_ind, timeibl_ind[0], data1, dataibl)\n"
   ]
  },
  {
   "cell_type": "code",
   "execution_count": 360,
   "id": "7d247c0b",
   "metadata": {},
   "outputs": [
    {
     "data": {
      "image/png": "[encoded data removed]",
      "text/plain": [
       "<Figure size 432x288 with 1 Axes>"
      ]
     },
     "metadata": {
      "needs_background": "light"
     },
     "output_type": "display_data"
    },
    {
     "name": "stdout",
     "output_type": "stream",
     "text": [
      "Средняя разница: 60.24993474906971\n",
      "Максимальная разница: 509.3442432899974, при времени: 61.5765407\n",
      "Величины: 21187.26 и 20677.91575671 на индексах: 4 и 100\n"
     ]
    }
   ],
   "source": [
    "plot(time1_ind, timeibl_ind[1], data1, dataibl)"
   ]
  },
  {
   "cell_type": "code",
   "execution_count": 361,
   "id": "0d4cd38f",
   "metadata": {},
   "outputs": [
    {
     "data": {
      "image/png": "[encoded data removed]",
      "text/plain": [
       "<Figure size 432x288 with 1 Axes>"
      ]
     },
     "metadata": {
      "needs_background": "light"
     },
     "output_type": "display_data"
    },
    {
     "name": "stdout",
     "output_type": "stream",
     "text": [
      "Средняя разница: 38.48045537200571\n",
      "Максимальная разница: 324.56434781999997, при времени: 61.8797298\n",
      "Величины: 32179.248 и 31854.68365218 на индексах: 7 и 161\n"
     ]
    }
   ],
   "source": [
    "plot(time1_ind, timeibl_ind[2], data1, dataibl)"
   ]
  },
  {
   "cell_type": "code",
   "execution_count": 362,
   "id": "84acb39c",
   "metadata": {},
   "outputs": [
    {
     "data": {
      "image/png": "[encoded data removed]",
      "text/plain": [
       "<Figure size 432x288 with 1 Axes>"
      ]
     },
     "metadata": {
      "needs_background": "light"
     },
     "output_type": "display_data"
    },
    {
     "name": "stdout",
     "output_type": "stream",
     "text": [
      "Средняя разница: 38.2980555290407\n",
      "Максимальная разница: 296.76941307000016, при времени: 79.6224882\n",
      "Величины: 13211.712 и 12914.94258693 на индексах: 168 и 3711\n"
     ]
    }
   ],
   "source": [
    "plot(time1_ind, timeibl_ind[3], data1, dataibl)"
   ]
  },
  {
   "cell_type": "code",
   "execution_count": 326,
   "id": "ce830e8e",
   "metadata": {},
   "outputs": [
    {
     "data": {
      "image/png": "[encoded data removed]",
      "text/plain": [
       "<Figure size 432x288 with 1 Axes>"
      ]
     },
     "metadata": {
      "needs_background": "light"
     },
     "output_type": "display_data"
    },
    {
     "name": "stdout",
     "output_type": "stream",
     "text": [
      "Средняя разница: 59.68672654242708\n",
      "Максимальная разница: 476.44541905000005, при времени: 79.6224882\n",
      "Величины: 13211.712 и 12735.26658095 на индексах: 168 и 3711\n"
     ]
    }
   ],
   "source": [
    "plot(time1_ind, timeibl_ind[4], data1, dataibl)"
   ]
  },
  {
   "cell_type": "code",
   "execution_count": 299,
   "id": "0abf9d3f",
   "metadata": {},
   "outputs": [
    {
     "data": {
      "image/png": "[encoded data removed]",
      "text/plain": [
       "<Figure size 432x288 with 1 Axes>"
      ]
     },
     "metadata": {
      "needs_background": "light"
     },
     "output_type": "display_data"
    },
    {
     "name": "stdout",
     "output_type": "stream",
     "text": [
      "Средняя разница: 82.25539355648432\n",
      "Максимальная разница: 653.7922850899995, при времени: 79.8255864\n",
      "Величины: 6009.084 и 5355.29171491 на индексах: 170 и 3751\n"
     ]
    }
   ],
   "source": [
    "plot(time1_ind, timeibl_ind[5], data1, dataibl)"
   ]
  },
  {
   "cell_type": "code",
   "execution_count": 300,
   "id": "55174b7c",
   "metadata": {},
   "outputs": [
    {
     "data": {
      "image/png": "[encoded data removed]",
      "text/plain": [
       "<Figure size 432x288 with 1 Axes>"
      ]
     },
     "metadata": {
      "needs_background": "light"
     },
     "output_type": "display_data"
    },
    {
     "name": "stdout",
     "output_type": "stream",
     "text": [
      "Средняя разница: 219.173848428\n",
      "Максимальная разница: 368.83720073999984, при времени: 61.0718898\n",
      "Величины: 3028.464 и 3397.30120074 на индексах: 0 и 0\n"
     ]
    }
   ],
   "source": [
    "plot(time1_ind, timeibl_ind[6], data1, dataibl)"
   ]
  },
  {
   "cell_type": "code",
   "execution_count": 293,
   "id": "22b1276a",
   "metadata": {},
   "outputs": [
    {
     "data": {
      "image/png": "[encoded data removed]",
      "text/plain": [
       "<Figure size 432x288 with 1 Axes>"
      ]
     },
     "metadata": {
      "needs_background": "light"
     },
     "output_type": "display_data"
    },
    {
     "name": "stdout",
     "output_type": "stream",
     "text": [
      "Средняя разница: 264.32189934999997\n",
      "Максимальная разница: 355.20117244999983, при времени: 61.0718898\n",
      "Величины: 3028.464 и 2673.26282755 на индексах: 0 и 1\n"
     ]
    }
   ],
   "source": [
    "plot(time1_ind, timeibl_ind[9], data1, dataibl)"
   ]
  },
  {
   "cell_type": "code",
   "execution_count": 366,
   "id": "f1e096f6",
   "metadata": {},
   "outputs": [],
   "source": [
    "same_time = (556, 14080)"
   ]
  },
  {
   "cell_type": "code",
   "execution_count": 367,
   "id": "f74213fa",
   "metadata": {},
   "outputs": [],
   "source": [
    "import math"
   ]
  },
  {
   "cell_type": "code",
   "execution_count": 394,
   "id": "44dfbd52",
   "metadata": {},
   "outputs": [
    {
     "name": "stdout",
     "output_type": "stream",
     "text": [
      "[1 0 0] [ 0 -1  0] [ 0  0 -1]\n",
      "89.75001\n"
     ]
    }
   ],
   "source": [
    "begin_koord = np.array([[1,0,0],[0,-1,0],[0,0,-1]])\n",
    "M1 = np.array([])\n",
    "ex = begin_koord[:, 0]\n",
    "ey = begin_koord[:, 1]\n",
    "ez = begin_koord[:, 2]\n",
    "print(ex, ey, ez)\n",
    "fi0 = None\n",
    "fi = None\n",
    "for i in range(566, 647):\n",
    "    fi0 = fi_1[i-1]\n",
    "    fi = fi_1[i]\n",
    "    dfi_r = math.radians(fi-fi0)\n",
    "    #print(fi-fi0)\n",
    "    M1 = np.array([[np.cos(dfi_r), 0, np.sin(dfi_r)], [0, 1, 0], [-np.sin(dfi_r), 0, np.cos(dfi_r)]]) #пока что считаем что ось 1 сонаправлена с Y\n",
    "    ex = M1 @ ex\n",
    "    ey = M1 @ ey\n",
    "    ez = M1 @ ez\n",
    "print(fi_1[647] - fi_1[566])"
   ]
  },
  {
   "cell_type": "code",
   "execution_count": 396,
   "id": "5b03f7f7",
   "metadata": {},
   "outputs": [
    {
     "name": "stdout",
     "output_type": "stream",
     "text": [
      "[ 0.00436505  0.         -0.99999047] [ 0. -1.  0.] [-0.99999047  0.         -0.00436505]\n"
     ]
    }
   ],
   "source": [
    "print(ex, ey, ez)  #ну вроде правильно"
   ]
  },
  {
   "cell_type": "code",
   "execution_count": null,
   "id": "2b371890",
   "metadata": {},
   "outputs": [],
   "source": []
  }
 ],
 "metadata": {
  "kernelspec": {
   "display_name": "Python 3 (ipykernel)",
   "language": "python",
   "name": "python3"
  },
  "language_info": {
   "codemirror_mode": {
    "name": "ipython",
    "version": 3
   },
   "file_extension": ".py",
   "mimetype": "text/x-python",
   "name": "python",
   "nbconvert_exporter": "python",
   "pygments_lexer": "ipython3",
   "version": "3.9.12"
  }
 },
 "nbformat": 4,
 "nbformat_minor": 5
}
