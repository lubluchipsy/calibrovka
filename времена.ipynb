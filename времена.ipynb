{
 "cells": [
  {
   "cell_type": "code",
   "execution_count": 7,
   "id": "ff29ecd7",
   "metadata": {},
   "outputs": [],
   "source": [
    "import numpy as np"
   ]
  },
  {
   "cell_type": "code",
   "execution_count": 8,
   "id": "c9e9c95a",
   "metadata": {},
   "outputs": [],
   "source": [
    "data_ibl = np.genfromtxt('20240204_1426.txt', skip_header=0, usecols=(1,3,4,5))\n",
    "time_ibl = data_ibl[:, 0]\n",
    "omegaX_ibl = data_ibl[:, 1]\n",
    "omegaY_ibl = data_ibl[:, 2]\n",
    "omegaZ_ibl = data_ibl[:, 3]"
   ]
  },
  {
   "cell_type": "code",
   "execution_count": 9,
   "id": "06600c4c",
   "metadata": {},
   "outputs": [],
   "source": [
    "data_1 = np.genfromtxt('05022024_1.txt', skip_header=0, max_rows=None)\n",
    "time_1 = data_1[:, 0]\n",
    "fi_1 = data_1[:, 1]\n",
    "theta_1 = data_1[:, 2]\n",
    "omega_1 = theta_1*3600"
   ]
  },
  {
   "cell_type": "code",
   "execution_count": 10,
   "id": "14f1c205",
   "metadata": {},
   "outputs": [],
   "source": [
    "import matplotlib.pyplot as plt"
   ]
  },
  {
   "cell_type": "code",
   "execution_count": 11,
   "id": "8f5fe631",
   "metadata": {},
   "outputs": [],
   "source": [
    "from scipy.optimize import minimize\n",
    "from scipy.interpolate import interp1d"
   ]
  },
  {
   "cell_type": "code",
   "execution_count": 18,
   "id": "b92b8d81",
   "metadata": {},
   "outputs": [
    {
     "name": "stdout",
     "output_type": "stream",
     "text": [
      "[4.02240000e-03 2.07411200e-01 3.06996600e-01 ... 8.91880195e+04\n",
      " 8.91881192e+04 8.91883207e+04] [     nan  168.33   168.335 ... 2380.845 2380.85  2380.855]\n",
      "Оптимальное преобразование: t' = 1.00 * t + 0.00\n"
     ]
    }
   ],
   "source": []
  },
  {
   "cell_type": "code",
   "execution_count": null,
   "id": "a7982024",
   "metadata": {},
   "outputs": [],
   "source": [
    "dfi1 = None\n",
    "dfi2 = None\n",
    "x,y,z = None, None, None\n",
    "M12 = np.array([[np.cos(dfi1), -(y*np.sin(dfi2)-z*np.cos(dfi2))],[],[]])"
   ]
  }
 ],
 "metadata": {
  "kernelspec": {
   "display_name": "Python 3 (ipykernel)",
   "language": "python",
   "name": "python3"
  },
  "language_info": {
   "codemirror_mode": {
    "name": "ipython",
    "version": 3
   },
   "file_extension": ".py",
   "mimetype": "text/x-python",
   "name": "python",
   "nbconvert_exporter": "python",
   "pygments_lexer": "ipython3",
   "version": "3.9.12"
  }
 },
 "nbformat": 4,
 "nbformat_minor": 5
}
