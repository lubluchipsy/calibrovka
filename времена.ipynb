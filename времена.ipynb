{
 "cells": [
  {
   "cell_type": "code",
   "execution_count": 50,
   "id": "ff29ecd7",
   "metadata": {},
   "outputs": [],
   "source": [
    "import numpy as np\n",
    "import matplotlib.pyplot as plt\n",
    "import math"
   ]
  },
  {
   "cell_type": "code",
   "execution_count": 51,
   "id": "c9e9c95a",
   "metadata": {},
   "outputs": [],
   "source": [
    "data_ibl = np.load(\"20240204_1426.npy\")\n",
    "time_ibl = data_ibl[:, 0]\n",
    "omegaX_ibl = data_ibl[:, 1]\n",
    "omegaY_ibl = data_ibl[:, 2] * (-1)\n",
    "omegaZ_ibl = data_ibl[:, 3]"
   ]
  },
  {
   "cell_type": "code",
   "execution_count": 52,
   "id": "06600c4c",
   "metadata": {},
   "outputs": [],
   "source": [
    "data_1 = np.load(\"05022024_1.npy\")\n",
    "time_1 = data_1[:, 0]\n",
    "fi_1 = data_1[:, 1]\n",
    "theta_1 = data_1[:, 2]\n",
    "omega_1 = theta_1*3600"
   ]
  },
  {
   "cell_type": "code",
   "execution_count": 53,
   "id": "2489fc54",
   "metadata": {},
   "outputs": [],
   "source": [
    "data_2 = np.load(\"05022024_2.npy\")\n",
    "time_2 = data_2[:, 0]\n",
    "fi_2 = data_2[:, 1]\n",
    "theta_2 = data_2[:, 2]\n",
    "omega_2 = theta_2*3600"
   ]
  },
  {
   "cell_type": "markdown",
   "id": "667d44f0",
   "metadata": {},
   "source": [
    "### Сразу обработаем time_ibl от переполнения"
   ]
  },
  {
   "cell_type": "code",
   "execution_count": 54,
   "id": "869c3611",
   "metadata": {},
   "outputs": [
    {
     "name": "stdout",
     "output_type": "stream",
     "text": [
      "14  раз переполнилось время на ибл\n"
     ]
    }
   ],
   "source": [
    "n = 0\n",
    "delta = 0\n",
    "for i in range(len(time_ibl)-1):\n",
    "    if abs(time_ibl[i+1]-time_ibl[i])>2000:\n",
    "        n += 1\n",
    "        time_ibl[(i+1):] += (time_ibl[i] - delta)\n",
    "        delta += (time_ibl[i] - delta)\n",
    "print(n, \" раз переполнилось время на ибл\")"
   ]
  },
  {
   "cell_type": "code",
   "execution_count": 55,
   "id": "1afafc2a",
   "metadata": {},
   "outputs": [
    {
     "data": {
      "text/plain": [
       "[<matplotlib.lines.Line2D at 0x1e304fcb610>]"
      ]
     },
     "execution_count": 55,
     "metadata": {},
     "output_type": "execute_result"
    },
    {
     "data": {
      "image/png": "[encoded data removed]",
      "text/plain": [
       "<Figure size 432x288 with 1 Axes>"
      ]
     },
     "metadata": {
      "needs_background": "light"
     },
     "output_type": "display_data"
    }
   ],
   "source": [
    "plt.plot([i for i in range(len(time_ibl))], time_ibl)"
   ]
  },
  {
   "cell_type": "code",
   "execution_count": 56,
   "id": "cc0828f7",
   "metadata": {},
   "outputs": [],
   "source": [
    "def cut_peaks(data, n):\n",
    "    counter = 0\n",
    "    in_peak = False\n",
    "\n",
    "    for i in range(len(data)):\n",
    "        if abs(data[i]) > 1000 and not in_peak:\n",
    "            in_peak = True\n",
    "            counter += 1\n",
    "        elif in_peak and abs(data[i]) < 200:\n",
    "            in_peak = False\n",
    "            if counter == n:\n",
    "                break\n",
    "    print(data[i-20])\n",
    "    if counter < n:\n",
    "        print(\"Only \", counter, \" peaks in data\")\n",
    "        return data\n",
    "    else:\n",
    "        return data[:i+1]"
   ]
  },
  {
   "cell_type": "code",
   "execution_count": 57,
   "id": "387ccc1c",
   "metadata": {},
   "outputs": [],
   "source": [
    "def find_points(omega1, omega2, n_peaks, limit):\n",
    "    counter = 0\n",
    "    in_peak = False\n",
    "    same_time = []\n",
    "    index2 = 0 \n",
    "\n",
    "    for i in range(len(omega1)):\n",
    "        if abs(omega1[i]) > limit and not in_peak:\n",
    "            in_peak = True\n",
    "            counter += 1\n",
    "            for j in range(index2, len(omega2), 1):\n",
    "                if abs(omega2[j]) > limit:\n",
    "                    same_time.append((i,j))\n",
    "                    index2 = j\n",
    "                    break\n",
    "            \n",
    "        elif in_peak and abs(omega1[i]) < limit:\n",
    "            in_peak = False\n",
    "            for j in range(index2, len(omega2), 1):\n",
    "                if abs(omega2[j]) < limit:\n",
    "                    same_time.append((i,j))\n",
    "                    index2 = j\n",
    "                    break\n",
    "            if counter == n_peaks:\n",
    "                break\n",
    "    if counter < n_peaks:\n",
    "        print(\"Only \", counter, \" peaks in data\")\n",
    "    else:\n",
    "        return same_time"
   ]
  },
  {
   "cell_type": "code",
   "execution_count": 58,
   "id": "1cb21590",
   "metadata": {},
   "outputs": [],
   "source": [
    "points = find_points(omegaY_ibl, omega_1, 10, 500)"
   ]
  },
  {
   "cell_type": "code",
   "execution_count": 59,
   "id": "910c8a9d",
   "metadata": {},
   "outputs": [
    {
     "data": {
      "image/png": "[encoded data removed]",
      "text/plain": [
       "<Figure size 576x360 with 1 Axes>"
      ]
     },
     "metadata": {
      "needs_background": "light"
     },
     "output_type": "display_data"
    }
   ],
   "source": [
    "timeibl1 = []\n",
    "time1 = []\n",
    "for i in range(len(points)):\n",
    "    timeibl1.append(time_ibl[points[i][0]])\n",
    "    time1.append(time_1[points[i][1]])\n",
    "    \n",
    "plt.figure(figsize=(8, 5))\n",
    "plt.plot(time1, timeibl1)\n",
    "plt.scatter(time1, timeibl1)\n",
    "plt.grid(True)\n",
    "plt.xlabel('ocь 1')\n",
    "plt.ylabel('omegaY блок')\n",
    "plt.show()"
   ]
  },
  {
   "cell_type": "code",
   "execution_count": 60,
   "id": "f1eb042d",
   "metadata": {},
   "outputs": [
    {
     "name": "stdout",
     "output_type": "stream",
     "text": [
      "timeibl = 0.999987391242748*time1 + 177.60520982538085\n"
     ]
    }
   ],
   "source": [
    "a1, b1 = np.polyfit(time1, timeibl1, 1)\n",
    "print(f\"timeibl = {a1}*time1 + {b1}\")"
   ]
  },
  {
   "cell_type": "code",
   "execution_count": 61,
   "id": "63dbad26",
   "metadata": {},
   "outputs": [],
   "source": [
    "def find_points(omegaX, omegaZ, omega2, n_peaks, limit):\n",
    "    counter = 0\n",
    "    in_peak = False\n",
    "    same_time = []\n",
    "    index1 = 0 \n",
    "    indexX = 0\n",
    "    indexZ = 0\n",
    "\n",
    "    for i in range(len(omega2)):\n",
    "        if abs(omega2[i]) > limit and not in_peak:\n",
    "            in_peak = True\n",
    "            counter += 1\n",
    "            for j in range(index1, len(omegaX), 1):\n",
    "                if abs(omegaX[j]) > limit:\n",
    "                    indexX = j\n",
    "                    break\n",
    "            for k in range(index1, len(omegaZ), 1):\n",
    "                if abs(omegaZ[k]) > limit:\n",
    "                    indexZ = k\n",
    "                    break\n",
    "            same_time.append((i, min(indexX, indexZ)))\n",
    "            index1 = min(indexX, indexZ)\n",
    "            \n",
    "        elif in_peak and abs(omega2[i]) < limit:\n",
    "            in_peak = False\n",
    "            if indexX < indexZ:\n",
    "                for j in range(index1, len(omegaX), 1):\n",
    "                    if abs(omegaX[j]) < limit:\n",
    "                        same_time.append((i,j))\n",
    "                        index1 = j\n",
    "                        break\n",
    "            if indexX > indexZ:\n",
    "                for k in range(index1, len(omegaZ), 1):\n",
    "                    if abs(omegaZ[k]) < limit:\n",
    "                        same_time.append((i,k))\n",
    "                        index1 = k\n",
    "                        break\n",
    "            if counter == n_peaks:\n",
    "                break\n",
    "                \n",
    "    if counter < n_peaks:\n",
    "        print(\"Only \", counter, \" peaks in data\")\n",
    "    else:\n",
    "        return same_time"
   ]
  },
  {
   "cell_type": "code",
   "execution_count": 62,
   "id": "4eafda0a",
   "metadata": {},
   "outputs": [],
   "source": [
    "points2 = find_points(omegaX_ibl, omegaZ_ibl, omega_2, 10, 600) #limit больше 500, потому что у икса неортогональности от z"
   ]
  },
  {
   "cell_type": "code",
   "execution_count": 63,
   "id": "ca4a476c",
   "metadata": {},
   "outputs": [
    {
     "data": {
      "image/png": "[encoded data removed]",
      "text/plain": [
       "<Figure size 432x288 with 1 Axes>"
      ]
     },
     "metadata": {
      "needs_background": "light"
     },
     "output_type": "display_data"
    }
   ],
   "source": [
    "timeibl2 = []\n",
    "time2 = []\n",
    "for i in range(len(points2)):\n",
    "    timeibl2.append(time_ibl[points2[i][1]])\n",
    "    time2.append(time_2[points2[i][0]])\n",
    "    \n",
    "plt.figure()\n",
    "plt.plot(time2, timeibl2)\n",
    "plt.scatter(time2, timeibl2)\n",
    "plt.xlabel(\"ось 2\")\n",
    "plt.ylabel(\"блок\")\n",
    "plt.show()"
   ]
  },
  {
   "cell_type": "code",
   "execution_count": 64,
   "id": "ce7f4085",
   "metadata": {},
   "outputs": [
    {
     "name": "stdout",
     "output_type": "stream",
     "text": [
      "timeibl = 0.9999951022327178*time2 + 179.3270325657494\n"
     ]
    }
   ],
   "source": [
    "a2, b2 = np.polyfit(time2, timeibl2, 1)\n",
    "print(f\"timeibl = {a2}*time2 + {b2}\")"
   ]
  },
  {
   "cell_type": "code",
   "execution_count": 65,
   "id": "a477482d",
   "metadata": {},
   "outputs": [],
   "source": [
    "time_1_2ibl = a1*time_1 + b1\n",
    "time_2_2ibl = a2*time_2 + b2"
   ]
  },
  {
   "cell_type": "code",
   "execution_count": 66,
   "id": "652a6299",
   "metadata": {},
   "outputs": [],
   "source": [
    "def concatenate_axes(time1, time2, fi1, fi2, omega1, omega2, a1, b1, a2, b2):\n",
    "    #time_1_2ibl = a1*time_1 + b1\n",
    "    #time_2_2ibl = a2*time_2 + b2\n",
    "\n",
    "    time12    = np.empty(time1.size + time2.size, dtype=time1.dtype)\n",
    "    fi1_12    = np.empty(time1.size + time2.size, dtype=time1.dtype) \n",
    "    fi2_12    = np.empty(time1.size + time2.size, dtype=time1.dtype)\n",
    "    omega1_12 = np.empty(time1.size + time2.size, dtype=time1.dtype)\n",
    "    omega2_12 = np.empty(time1.size + time2.size, dtype=time1.dtype)\n",
    "    i, j, k = 0, 0, 0\n",
    "\n",
    "    while i < time1.size and j < time2.size:\n",
    "        if time1[i] < time2[j]:\n",
    "            time12[k] = time1[i]\n",
    "            fi1_12[k] = fi1[i]\n",
    "            omega1_12[k] = omega1[i]\n",
    "            fi2_12[k] = 0 if k==0 else fi2_12[k-1]\n",
    "            omega2_12[k] = 0 if k==0 else omega2_12[k-1]\n",
    "            i += 1\n",
    "        else:\n",
    "            time12[k] = time2[j]\n",
    "            fi2_12[k] = fi2[j]\n",
    "            omega2_12[k] = omega2[j]\n",
    "            fi1_12[k] = 0 if k==0 else fi1_12[k-1]\n",
    "            omega1_12[k] = 0 if k==0 else omega1_12[k-1]\n",
    "            j += 1\n",
    "        k += 1\n",
    "\n",
    "    # Добавляем оставшиеся элементы\n",
    "    while i < time1.size:\n",
    "        time12[k] = time1[i]\n",
    "        fi1_12[k] = fi1[i]\n",
    "        omega1_12[k] = omega1[i]\n",
    "        fi2_12[k] = fi2_12[k-1]\n",
    "        omega2_12[k] = omega2_12[k-1]\n",
    "        i += 1\n",
    "        k += 1\n",
    "\n",
    "    while j < time2.size:\n",
    "        time12[k] = time2[j]\n",
    "        fi2_12[k] = fi2[j]\n",
    "        omega2_12[k] = omega2[j]\n",
    "        fi1_12[k] = fi1_12[k-1]\n",
    "        omega1_12[k] = omega1_12[k-1]\n",
    "        j += 1\n",
    "        k += 1\n",
    "    \n",
    "    return time12, fi1_12, fi2_12, omega1_12, omega2_12"
   ]
  },
  {
   "cell_type": "code",
   "execution_count": 67,
   "id": "bc0b6611",
   "metadata": {},
   "outputs": [],
   "source": [
    "time12, fi1_12, fi2_12, omega1_12, omega2_12 = concatenate_axes(time_1_2ibl, time_2_2ibl, fi_1, fi_2, omega_1, omega_2, a1, b1, a2, b2)"
   ]
  },
  {
   "cell_type": "code",
   "execution_count": 68,
   "id": "a19defa2",
   "metadata": {},
   "outputs": [
    {
     "name": "stdout",
     "output_type": "stream",
     "text": [
      "16\n"
     ]
    }
   ],
   "source": [
    "print(len(time12)//100000)"
   ]
  },
  {
   "cell_type": "code",
   "execution_count": 69,
   "id": "23111cb5",
   "metadata": {},
   "outputs": [
    {
     "data": {
      "text/plain": [
       "[<matplotlib.lines.Line2D at 0x1e348eaf6d0>]"
      ]
     },
     "execution_count": 69,
     "metadata": {},
     "output_type": "execute_result"
    },
    {
     "data": {
      "image/png": "[encoded data removed]",
      "text/plain": [
       "<Figure size 432x288 with 1 Axes>"
      ]
     },
     "metadata": {
      "needs_background": "light"
     },
     "output_type": "display_data"
    }
   ],
   "source": [
    "plt.plot([i for i in range(len(fi2_12))], fi2_12)"
   ]
  },
  {
   "cell_type": "markdown",
   "id": "47c2132c",
   "metadata": {},
   "source": [
    "Первый вариант, общая матрица поворота, неправильно работает()"
   ]
  },
  {
   "cell_type": "code",
   "execution_count": 71,
   "id": "d37c4b53",
   "metadata": {},
   "outputs": [
    {
     "ename": "IndexError",
     "evalue": "index 810396 is out of bounds for axis 0 with size 810396",
     "output_type": "error",
     "traceback": [
      "\u001b[1;31m---------------------------------------------------------------------------\u001b[0m",
      "\u001b[1;31mIndexError\u001b[0m                                Traceback (most recent call last)",
      "Input \u001b[1;32mIn [71]\u001b[0m, in \u001b[0;36m<cell line: 18>\u001b[1;34m()\u001b[0m\n\u001b[0;32m     18\u001b[0m \u001b[38;5;28;01mfor\u001b[39;00m i \u001b[38;5;129;01min\u001b[39;00m \u001b[38;5;28mrange\u001b[39m(\u001b[38;5;241m1\u001b[39m, \u001b[38;5;28mlen\u001b[39m(time12)\u001b[38;5;241m/\u001b[39m\u001b[38;5;241m/\u001b[39m\u001b[38;5;241m1\u001b[39m \u001b[38;5;241m+\u001b[39m\u001b[38;5;241m1\u001b[39m):\n\u001b[0;32m     19\u001b[0m     fi10, fi1 \u001b[38;5;241m=\u001b[39m fi_1[i\u001b[38;5;241m-\u001b[39m\u001b[38;5;241m1\u001b[39m], fi_1[i]\n\u001b[1;32m---> 20\u001b[0m     fi20, fi2 \u001b[38;5;241m=\u001b[39m fi_2[i\u001b[38;5;241m-\u001b[39m\u001b[38;5;241m1\u001b[39m], \u001b[43mfi_2\u001b[49m\u001b[43m[\u001b[49m\u001b[43mi\u001b[49m\u001b[43m]\u001b[49m\n\u001b[0;32m     21\u001b[0m     y, z \u001b[38;5;241m=\u001b[39m \u001b[38;5;241m-\u001b[39mey[\u001b[38;5;241m1\u001b[39m], \u001b[38;5;241m-\u001b[39mey[\u001b[38;5;241m2\u001b[39m]\n\u001b[0;32m     22\u001b[0m     dfi1 \u001b[38;5;241m=\u001b[39m math\u001b[38;5;241m.\u001b[39mradians(fi1\u001b[38;5;241m-\u001b[39mfi10)\n",
      "\u001b[1;31mIndexError\u001b[0m: index 810396 is out of bounds for axis 0 with size 810396"
     ]
    }
   ],
   "source": [
    "begin_koord=np.array([[1,0,0],[0,-1,0],[0,0,-1]])\n",
    "\n",
    "OmegaX = np.array([])\n",
    "OmegaY = np.array([])\n",
    "OmegaZ = np.array([])\n",
    "\n",
    "M12 = np.array([])\n",
    "ex = begin_koord[:, 0]\n",
    "ey = begin_koord[:, 1]\n",
    "ez = begin_koord[:, 2]\n",
    "fi10, fi1  = 0, 0\n",
    "fi20, fi2  = 0, 0\n",
    "\n",
    "Omega_earth = np.array([0, 12.44, 8.42])\n",
    "\n",
    "file = open('etalon.txt', 'w')\n",
    "file.write(\"{:8}\".format(\"time\") + \"{:17}\".format(\"omega_x,gph\") + \"{:17}\".format(\"omega_y,gph\") + \"{:17}\".format(\"omega_z,gph\") + '\\n')\n",
    "for i in range(1, len(time12)//1 +1):\n",
    "    fi10, fi1 = fi_1[i-1], fi_1[i]\n",
    "    fi20, fi2 = fi_2[i-1], fi_2[i]\n",
    "    y, z = -ey[1], -ey[2]\n",
    "    dfi1 = math.radians(fi1-fi10)\n",
    "    dfi2 = math.radians(fi2-fi20)\n",
    "    M12 = np.array([[np.cos(dfi1),                                 -(y*np.sin(dfi2)+z*np.cos(dfi2))*np.sin(dfi1),                                    (y*np.cos(dfi2)-z*np.sin(dfi2))*np.sin(dfi1)],\n",
    "                    [(y*np.sin(dfi2)+z*np.cos(dfi2))*np.sin(dfi1), np.cos(dfi1)+(1-np.cos(dfi1))*(y*np.cos(dfi2)-z*np.sin(dfi2))**2,                 (1-np.cos(dfi1))*(y*np.cos(dfi2)-z*np.sin(dfi2))*(y*np.sin(dfi2)+z*np.cos(dfi2))], \n",
    "                    [(z*np.sin(dfi2)-y*np.cos(dfi2))*np.sin(dfi1), (1-np.cos(dfi1))*(y*np.sin(dfi2)+z*np.cos(dfi2))*(y*np.cos(dfi2)-z*np.sin(dfi2)), np.cos(dfi1)+(1-np.cos(dfi1))*(y*np.sin(dfi2)+z*np.cos(dfi2))**2]])\n",
    "    ex = M12 @ ex\n",
    "    ey = M12 @ ey\n",
    "    ez = M12 @ ez\n",
    "    \n",
    "    omegax = np.dot(ex, Omega_earth) + omega2_12[i]*ex[0]\n",
    "    omegay = np.dot(ey, Omega_earth) - omega1_12[i]\n",
    "    omegaz = np.dot(ez, Omega_earth) + omega2_12[i]*ez[0]\n",
    "    file.write(\"{:8.3f}\".format(time12[i]) + \"{:17.8f}\".format(omegax) + \"{:17.8f}\".format(omegay) + \"{:17.8f}\".format(omegaz) + '\\n')\n",
    "file.close()"
   ]
  },
  {
   "cell_type": "code",
   "execution_count": 8,
   "id": "693758f5",
   "metadata": {},
   "outputs": [],
   "source": [
    "def build_reference(data_ibl, data_1, data_2, n_peaks=10, limit1=500, limit2=600):\n",
    "    time_ibl = data_ibl[:, 0]\n",
    "    omegaX_ibl = data_ibl[:, 1]\n",
    "    omegaY_ibl = data_ibl[:, 2] * (-1)\n",
    "    omegaZ_ibl = data_ibl[:, 3]\n",
    "    time_1 = data_1[:, 0]\n",
    "    fi_1 = data_1[:, 1]\n",
    "    theta_1 = data_1[:, 2]\n",
    "    omega_1 = theta_1*3600\n",
    "    time_2 = data_2[:, 0]\n",
    "    fi_2 = data_2[:, 1]\n",
    "    theta_2 = data_2[:, 2]\n",
    "    omega_2 = theta_2*3600\n",
    "    \n",
    "    correct_time(time_ibl)\n",
    "    \n",
    "    points1 = find_points(omegaY_ibl, omega_1, n_peaks, limit1)\n",
    "    points2 = find_points(omegaX_ibl, omegaZ_ibl, omega_2, n_peaks, limit2)\n",
    "    \n",
    "    timeibl1= []\n",
    "    time1 = []\n",
    "    for i in range(len(points)):\n",
    "        timeibl1.append(time_ibl[points[i][0]])\n",
    "        time1.append(time_1[points[i][1]])\n",
    "    \n",
    "    timeibl2 = []\n",
    "    time2 = []\n",
    "    for i in range(len(points2)):\n",
    "        timeibl2.append(time_ibl[points2[i][1]])\n",
    "        time2.append(time_2[points2[i][0]])\n",
    "        \n",
    "    a1, b1 = np.polyfit(time1, timeibl1, 1)\n",
    "    a2, b2 = np.polyfit(time2, timeibl2, 1)\n",
    "    \n",
    "    time12, fi1_12, fi2_12 = concatenate_axes(time_1_2ibl, time_2_2ibl, fi_1, fi_2, a1, b1, a2, b2)\n",
    "    \n",
    "    print_reference(time12, fi1, fi2)"
   ]
  },
  {
   "cell_type": "code",
   "execution_count": 7,
   "id": "5c6dad9e",
   "metadata": {},
   "outputs": [
    {
     "data": {
      "text/plain": [
       "array([1, 0, 0])"
      ]
     },
     "execution_count": 7,
     "metadata": {},
     "output_type": "execute_result"
    }
   ],
   "source": [
    "begin_koord = np.array([[1,0,0],[0,-1,0],[0,0,-1]])\n",
    "ex = begin_koord[:, 0]\n",
    "ex"
   ]
  }
 ],
 "metadata": {
  "kernelspec": {
   "display_name": "Python 3 (ipykernel)",
   "language": "python",
   "name": "python3"
  },
  "language_info": {
   "codemirror_mode": {
    "name": "ipython",
    "version": 3
   },
   "file_extension": ".py",
   "mimetype": "text/x-python",
   "name": "python",
   "nbconvert_exporter": "python",
   "pygments_lexer": "ipython3",
   "version": "3.9.12"
  }
 },
 "nbformat": 4,
 "nbformat_minor": 5
}
